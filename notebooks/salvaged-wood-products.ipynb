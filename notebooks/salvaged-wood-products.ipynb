{
 "cells": [
  {
   "cell_type": "markdown",
   "id": "3a8746e2",
   "metadata": {},
   "source": [
    "<img width=\"50\" src=\"https://carbonplan-assets.s3.amazonaws.com/monogram/dark-small.png\" style=\"margin-left:0px;margin-top:20px\"/>\n",
    "\n",
    "_by Grayson Badgley, Oct 2021_\n",
    "\n",
    "This notebook annotates data entry underlying the calculation of wood product\n",
    "storage factors for four projects that have been burned in recent years.\n",
    "\n",
    "The full carbon consequences of unintentional reversals require taking into\n",
    "account salvaged timber that ends up in wood products. This requires calculating\n",
    "several conversion factors. First, of all reversed carbon (below/above), what\n",
    "fraction is merchantable? Then from that merchantable carbon, what fraction of\n",
    "it ends up in wood products (both in-use and landfilled) that persist for 100\n",
    "years?\n",
    "\n",
    "Thankfully, the four projects we're interested in provide the data needed to\n",
    "directly estimate each of these transitions. Each OPDR makes clear distinctions\n",
    "between \"havested carbon\" (which explicitly includes belowground!) and\n",
    "\"merchentable carbon\" (boles only, delivered to mill). This means we can\n",
    "seamlessly translate from loses in IFM-1 (which includes above and below) to\n",
    "wood products.\n"
   ]
  },
  {
   "cell_type": "code",
   "execution_count": null,
   "id": "3709ec0f",
   "metadata": {},
   "outputs": [],
   "source": [
    "#%load_ext nb_black\n",
    "\n",
    "from dataclasses import dataclass\n",
    "import json\n",
    "\n",
    "import fsspec\n",
    "import pandas as pd\n",
    "\n",
    "CACHE_DATA = False\n",
    "\n",
    "\n",
    "@dataclass\n",
    "class BaselineWoodProducts:\n",
    "    dtm: int\n",
    "    in_use: int\n",
    "    landfill: int\n",
    "    frac_merch: float\n",
    "\n",
    "    def get_landfill_storage_factor(self):\n",
    "        return self.landfill / self.dtm\n",
    "\n",
    "    def get_inuse_storage_factor(self):\n",
    "        return self.in_use / self.dtm\n",
    "\n",
    "    def get_summary(self):\n",
    "        return {\n",
    "            \"lf_frac\": round(self.get_landfill_storage_factor(), 4),\n",
    "            \"inuse_frac\": round(self.get_inuse_storage_factor(), 4),\n",
    "            \"frac_merch\": round(self.frac_merch, 4),\n",
    "        }\n",
    "\n",
    "\n",
    "records = {}"
   ]
  },
  {
   "cell_type": "markdown",
   "id": "3917c692",
   "metadata": {},
   "source": [
    "## ACR255\n",
    "\n",
    "Attachment G/H of the initial OPDR lists trees harvested at 937,332.63 and DTM\n",
    "as 440,561. This works out to 47 percent, which is lower than the other three\n",
    "projects examined.\n"
   ]
  },
  {
   "cell_type": "code",
   "execution_count": null,
   "id": "5d4d05ee",
   "metadata": {},
   "outputs": [],
   "source": [
    "bwp = BaselineWoodProducts(\n",
    "    dtm=440_561.25,\n",
    "    in_use=114_683,\n",
    "    landfill=82_226,\n",
    "    frac_merch=440_561.25 / 937_332.63,\n",
    ")\n",
    "records[\"acr255\"] = bwp.get_summary()"
   ]
  },
  {
   "cell_type": "markdown",
   "id": "98eecf25",
   "metadata": {},
   "source": [
    "## ACR260\n",
    "\n",
    "Page 57 of the supplemental OPDR has some hints about the fraction of harvested\n",
    "timber that ends up merchantable. It just reports the annualized total harvest\n",
    "as 63,693 tCO2e per year. Page 58 reports DTM at 34,405. Baseline in use and\n",
    "landfill do not vary in the currently submitted OPDRs.\n"
   ]
  },
  {
   "cell_type": "code",
   "execution_count": null,
   "id": "9835a73c",
   "metadata": {},
   "outputs": [],
   "source": [
    "bwp = BaselineWoodProducts(\n",
    "    dtm=34_405, in_use=9_239, landfill=6_372, frac_merch=34_405.5 / 63_693.5\n",
    ")\n",
    "\n",
    "records[\"acr260\"] = bwp.get_summary()"
   ]
  },
  {
   "cell_type": "markdown",
   "id": "143f5def",
   "metadata": {},
   "source": [
    "## ACR273\n",
    "\n",
    "Page 53 of the initial OPDR gives us what we need! Harvest live is 561,351 and\n",
    "harvest merch is 300,972. But we can do even better than that. Table 11 gives us\n",
    "per decade breakdowns. To be conservative, we'll take the maximum ratio between\n",
    "Removals/AGBG, which works out to be 56.96 percent -- this is just slightly (~4\n",
    "percent) raito of means.\n"
   ]
  },
  {
   "cell_type": "code",
   "execution_count": null,
   "id": "5f1138a3",
   "metadata": {},
   "outputs": [],
   "source": [
    "bwp = BaselineWoodProducts(\n",
    "    dtm=300_972, in_use=80_113, landfill=56_777, frac_merch=0.57\n",
    ")\n",
    "records[\"acr273\"] = bwp.get_summary()"
   ]
  },
  {
   "cell_type": "markdown",
   "id": "1b9dfb6a",
   "metadata": {},
   "source": [
    "## CAR1102\n",
    "\n",
    "Page 43 of the initial OPDR reports Harvested Live and Harvest merchentable as\n",
    "8657 and 5425. Rather than use the mean values, we'll actually take the maximum\n",
    "ratio of Cut-All and Cut-Merch from Table 14, which works out to be 64.5 percent\n"
   ]
  },
  {
   "cell_type": "code",
   "execution_count": null,
   "id": "a576aca6",
   "metadata": {},
   "outputs": [],
   "source": [
    "bwp = BaselineWoodProducts(\n",
    "    dtm=5_425, in_use=1_513, landfill=964, frac_merch=0.645\n",
    ")\n",
    "records[\"car1102\"] = bwp.get_summary()"
   ]
  },
  {
   "cell_type": "code",
   "execution_count": null,
   "id": "e9c05414",
   "metadata": {},
   "outputs": [],
   "source": [
    "if CACHE_DATA:\n",
    "    fn = \"wood_product_storage_factors.json\"\n",
    "\n",
    "    out_dir = \"gcs://carbonplan-buffer-analysis\"\n",
    "\n",
    "    out_fn = \"/\".join([out_dir, fn])\n",
    "    with fsspec.open(out_fn, \"w\") as f:\n",
    "        json.dump(records, f, indent=2)"
   ]
  }
 ],
 "metadata": {
  "kernelspec": {
   "display_name": "Python [conda env:notebook] *",
   "language": "python",
   "name": "conda-env-notebook-py"
  },
  "language_info": {
   "codemirror_mode": {
    "name": "ipython",
    "version": 3
   },
   "file_extension": ".py",
   "mimetype": "text/x-python",
   "name": "python",
   "nbconvert_exporter": "python",
   "pygments_lexer": "ipython3",
   "version": "3.8.12"
  }
 },
 "nbformat": 4,
 "nbformat_minor": 5
}
