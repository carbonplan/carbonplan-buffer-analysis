{
 "cells": [
  {
   "cell_type": "markdown",
   "id": "4d1d9bf6",
   "metadata": {},
   "source": [
    "<img width=\"50\" src=\"https://carbonplan-assets.s3.amazonaws.com/monogram/dark-small.png\" style=\"margin-left:0px;margin-top:20px\"/>\n",
    "\n",
    "_by Grayson Badgley, April 2022_\n",
    "\n",
    "The first step in figuring out how much carbon is lost during a fire is\n",
    "determining how much carbon was around in the first place. This notebook serves\n",
    "as a record of where those data came from and the transformations (if any)\n",
    "performed to arrive at pre-fire biomass estimates.\n",
    "\n",
    "# Projects\n",
    "\n",
    "We are aware of _six_ projects that have burned to date. Two of those\n",
    "wildfire-induced reversals have been verified by CARB and compensated for by the\n",
    "buffer pool. The four remaining projects are:\n",
    "\n",
    "- ACR255: Confederated Tribes of Colville Reservation\n",
    "- ACR260: Confederated Tribes of Warm Springs Reservation\n",
    "- ACR273: Klamath East\n",
    "- CAR1102: Montesol\n",
    "\n",
    "Having the right carbon at the outset of the fire is especially important for\n",
    "determining whether or not the project automatically terminates. Alternatively,\n",
    "underestimating pre-fire carbon stocks makes estimates of the size of the\n",
    "reversal conservative.\n"
   ]
  },
  {
   "cell_type": "code",
   "execution_count": null,
   "id": "597e7aab",
   "metadata": {},
   "outputs": [],
   "source": [
    "import json\n",
    "\n",
    "import fsspec\n",
    "import pandas as pd\n",
    "\n",
    "records = {}"
   ]
  },
  {
   "cell_type": "code",
   "execution_count": null,
   "id": "b8b36f8c",
   "metadata": {},
   "outputs": [],
   "source": [
    "def grow_pools_forward(carbon_stocks, event_year):\n",
    "    \"\"\"Calculate median growth of carbon pools.\n",
    "\n",
    "    Then apply that growth rate n times, where n is the difference between the year of the event\n",
    "    and the year of the last OPDR\n",
    "    \"\"\"\n",
    "    nyears = event_year - carbon_stocks.index.max()\n",
    "    scaled = (\n",
    "        1 + carbon_stocks.pct_change().median()\n",
    "    ) ** nyears * carbon_stocks.iloc[-1]\n",
    "    return scaled.round().astype(int).to_dict()"
   ]
  },
  {
   "cell_type": "markdown",
   "id": "2236e313",
   "metadata": {},
   "source": [
    "## ACR255\n",
    "\n",
    "Multiple fires have burned through this project.\n",
    "\n",
    "We'll use the carbon pools reported in the most recent OPDR (covering July 2016\n",
    "to July 2017) and make no further adjustments. This makes our estimates of\n",
    "carbon loss conservative, at the expense of preventing us from determining\n",
    "whether the cummulative effects of fire have terminated the project. Making a\n",
    "determination on termination will require a separate analysis.\n"
   ]
  },
  {
   "cell_type": "code",
   "execution_count": null,
   "id": "76ee4a6e",
   "metadata": {},
   "outputs": [],
   "source": [
    "records[\"acr255\"] = {\n",
    "    \"ifm-1\": 45_781_013,\n",
    "    \"ifm-3\": 5_529_953,\n",
    "}  # rounded to nearest tCO2"
   ]
  },
  {
   "cell_type": "markdown",
   "id": "9add39e2",
   "metadata": {},
   "source": [
    "## ACR260\n",
    "\n",
    "The 2020\n",
    "[Lionshead fire](https://www.opb.org/article/2021/08/30/wildfire-warm-springs-lionshead-prescribed-burning/)\n",
    "burned through this project.\n",
    "\n",
    "ACR260 has submitted four annual OPDRs to the\n",
    "[ACR registry](https://acr2.apx.com/mymodule/reg/TabDocuments.asp?r=111&ad=Prpt&act=update&type=PRO&aProj=pub&tablename=doc&id1=260),\n",
    "with the most recent spanning 2017/2018. Lionshead ignited\n",
    "[August 16, 2020](https://inciweb.nwcg.gov/incident/7049/), two years later. To\n",
    "make our estimates conservative, we'll just grow the project forward one year.\n"
   ]
  },
  {
   "cell_type": "code",
   "execution_count": null,
   "id": "7b579bb2",
   "metadata": {},
   "outputs": [],
   "source": [
    "event_year_less_one = 2019\n",
    "raw_data = [\n",
    "    (2015, 4_105_735, 829_223),\n",
    "    (2016, 4_440_489, 927_324),\n",
    "    (2017, 4_514_130, 914_989),\n",
    "    (2018, 4_588_312, 894_781),\n",
    "]\n",
    "carbon_pools = pd.DataFrame(\n",
    "    raw_data, columns=[\"year\", \"ifm-1\", \"ifm-3\"]\n",
    ").set_index(\"year\")\n",
    "\n",
    "records[\"acr260\"] = grow_pools_forward(carbon_pools, event_year_less_one)"
   ]
  },
  {
   "cell_type": "code",
   "execution_count": null,
   "id": "68783014",
   "metadata": {},
   "outputs": [],
   "source": [
    "records"
   ]
  },
  {
   "cell_type": "markdown",
   "id": "70c3799f",
   "metadata": {},
   "source": [
    "## ACR273\n",
    "\n",
    "The 2021 [Bootleg fire] burned through this project.\n",
    "\n",
    "ACR273 has submitted five annual OPDRs to the\n",
    "[ACR registry](https://acr2.apx.com/mymodule/reg/TabDocuments.asp?r=111&ad=Prpt&act=update&type=PRO&aProj=pub&tablename=doc&id1=273),\n",
    "with the most recent spanning 2019-2020. Bootleg ignited\n",
    "[July 12, 2021](https://inciweb.nwcg.gov/incident/7609/), about six months after\n",
    "the most recent OPDR. To ensure a conservative estimate of loses, we'll just use\n",
    "the 2020 biomass numbers\n"
   ]
  },
  {
   "cell_type": "code",
   "execution_count": null,
   "id": "36d40631",
   "metadata": {},
   "outputs": [],
   "source": [
    "event_year = 2021\n",
    "raw_data = [\n",
    "    (2016, 13_947_830, 334_352),\n",
    "    (2017, 14_474_946, 334_352),\n",
    "    (2018, 14_937_966, 334_352),\n",
    "    (2019, 15_119_235, 513_299),\n",
    "    (2020, 15_513_892, 513_299),\n",
    "]\n",
    "carbon_pools = pd.DataFrame(\n",
    "    raw_data, columns=[\"year\", \"ifm-1\", \"ifm-3\"]\n",
    ").set_index(\"year\")\n",
    "\n",
    "records[\"acr273\"] = {\"ifm-1\": raw_data[-1][1], \"ifm-3\": raw_data[-1][2]}"
   ]
  },
  {
   "cell_type": "code",
   "execution_count": null,
   "id": "887d7ed3",
   "metadata": {},
   "outputs": [],
   "source": [
    "records"
   ]
  },
  {
   "cell_type": "markdown",
   "id": "988e4f8b",
   "metadata": {},
   "source": [
    "## CAR1102\n",
    "\n",
    "The 2020 Hennessey and Glass fires (i.e., two separate fires) burned through\n",
    "this project.\n",
    "\n",
    "CAR1102 has submitted four annual OPDRs to the\n",
    "[CAR registery](https://thereserve2.apx.com/mymodule/reg/TabDocuments.asp?r=111&ad=Prpt&act=update&type=PRO&aProj=pub&tablename=doc&id1=1102),\n",
    "with the most recent updating carbon pools through the 2019 growing season. The\n",
    "Hennessey and Glass fires ignited in\n",
    "[mid August](https://en.wikipedia.org/wiki/LNU_Lightning_Complex_fires) and\n",
    "[late September](https://en.wikipedia.org/wiki/Glass_Fire).\n",
    "\n",
    "This project also exhibits irregular step-changes in IFM-3. We'll double check\n",
    "to make sure IFM-3 is set equal to the last reported value (as opposed to\n",
    "growing forward in an unrealistic manner).\n"
   ]
  },
  {
   "cell_type": "code",
   "execution_count": null,
   "id": "6a6db0ef",
   "metadata": {},
   "outputs": [],
   "source": [
    "event_year = 2020\n",
    "raw_data = [\n",
    "    (2016, 828_840, 12_978),\n",
    "    (2017, 836_414, 12_978),\n",
    "    (2018, 843_988, 12_978),\n",
    "    (2019, 852_198, 19_204),\n",
    "]\n",
    "carbon_pools = pd.DataFrame(\n",
    "    raw_data, columns=[\"year\", \"ifm-1\", \"ifm-3\"]\n",
    ").set_index(\"year\")\n",
    "\n",
    "records[\"car1102\"] = {\"ifm-1\": raw_data[-1][1], \"ifm-3\": raw_data[-1][2]}"
   ]
  },
  {
   "cell_type": "code",
   "execution_count": null,
   "id": "0b2c8319",
   "metadata": {},
   "outputs": [],
   "source": [
    "records"
   ]
  },
  {
   "cell_type": "code",
   "execution_count": null,
   "id": "09ffa1aa",
   "metadata": {},
   "outputs": [],
   "source": [
    "fn = \"adjusted_prefire_carbon_stocks.json\"\n",
    "out_dir = \"gcs://carbonplan-buffer-analysis\"\n",
    "out_fn = \"/\".join([out_dir, fn])\n",
    "\n",
    "with fsspec.open(out_fn, \"w\") as f:\n",
    "    json.dump(records, f, indent=2)"
   ]
  }
 ],
 "metadata": {
  "kernelspec": {
   "display_name": "Python [conda env:notebook] *",
   "language": "python",
   "name": "conda-env-notebook-py"
  },
  "language_info": {
   "codemirror_mode": {
    "name": "ipython",
    "version": 3
   },
   "file_extension": ".py",
   "mimetype": "text/x-python",
   "name": "python",
   "nbconvert_exporter": "python",
   "pygments_lexer": "ipython3",
   "version": "3.8.12"
  }
 },
 "nbformat": 4,
 "nbformat_minor": 5
}
