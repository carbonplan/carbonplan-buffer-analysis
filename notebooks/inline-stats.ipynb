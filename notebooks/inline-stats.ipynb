{
 "cells": [
  {
   "cell_type": "code",
   "execution_count": null,
   "id": "47e07739",
   "metadata": {},
   "outputs": [],
   "source": [
    "import geopandas\n",
    "\n",
    "from carbonplan_buffer_analysis import utils\n",
    "from carbonplan_buffer_analysis.prefect.flows.calculate_buffer_contributions import (\n",
    "    get_issuance_table,\n",
    ")\n",
    "from carbonplan_buffer_analysis.prefect.tasks.project_reversals import (\n",
    "    load_fires,\n",
    ")\n",
    "from carbonplan_forest_offsets.data import cat\n",
    "\n",
    "M2_TO_ACRE = 4046.86"
   ]
  },
  {
   "cell_type": "code",
   "execution_count": null,
   "id": "34994184",
   "metadata": {},
   "outputs": [],
   "source": [
    "retro_json = cat.project_db_json.read()"
   ]
  },
  {
   "cell_type": "code",
   "execution_count": null,
   "id": "8462e37a",
   "metadata": {},
   "outputs": [],
   "source": [
    "fires = load_fires()"
   ]
  },
  {
   "cell_type": "code",
   "execution_count": null,
   "id": "50c9a610",
   "metadata": {},
   "outputs": [],
   "source": [
    "geom = utils.load_project_geometry(\"CAR1046\")\n",
    "geom = geom.to_crs(fires.crs).buffer(0)"
   ]
  },
  {
   "cell_type": "code",
   "execution_count": null,
   "id": "58bef352",
   "metadata": {},
   "outputs": [],
   "source": [
    "route = fires.loc[fires[\"name\"] == \"ROUTE COMPLEX\"]"
   ]
  },
  {
   "cell_type": "code",
   "execution_count": null,
   "id": "d7c7e2fb",
   "metadata": {},
   "outputs": [],
   "source": [
    "trinity_proj = [x for x in retro_json if x[\"opr_id\"] == \"CAR1046\"][0]"
   ]
  },
  {
   "cell_type": "code",
   "execution_count": null,
   "id": "276325b2",
   "metadata": {},
   "outputs": [],
   "source": [
    "route_acres = (geopandas.clip(route, geom).area / M2_TO_ACRE).item()\n",
    "f\" Although it affected only about {route_acres/ trinity_proj['acreage'] * 100:.0f} percent of the project’s total acreage, the carbon losses were so large that a post-fire verification found onsite carbon had fallen below the project’s baseline scenario.\""
   ]
  },
  {
   "cell_type": "code",
   "execution_count": null,
   "id": "711c38b2",
   "metadata": {},
   "outputs": [],
   "source": [
    "ax = route.plot(color=light[\"red\"])\n",
    "geom.plot(ax=ax, color=\".3\")"
   ]
  },
  {
   "cell_type": "markdown",
   "id": "2faeaa7b",
   "metadata": {},
   "source": [
    "## Credited vs onsite carbon\n",
    "\n",
    "The text we want to populate is:\n",
    "\n",
    "> To give quantitative context, we examine a subset of TK forest offset projects\n",
    "> from a dataset assembled for an earlier research project (Badgley et al.,\n",
    "> 2021). In the initial crediting period, these projects collectively earned TK\n",
    "> gross credits, of which TK credits were contributed to the buffer pool.\n",
    "> Although this implies a buffer pool contribution of TK percent of the total\n",
    "> credit gross carbon, the onsite carbon stocks at these projects contained TK\n",
    "> tCO₂. From the perspective of onside carbon that is subject to permanence\n",
    "> risks, the buffer pool contribution for these projects is only TK percent.\n"
   ]
  },
  {
   "cell_type": "code",
   "execution_count": null,
   "id": "2e6de92a",
   "metadata": {},
   "outputs": [],
   "source": [
    "n_subset = len(retro_json)\n",
    "f\"we examine a subset of {n_subset} forest offset projects from a dataset assembled for\""
   ]
  },
  {
   "cell_type": "code",
   "execution_count": null,
   "id": "1197c9df",
   "metadata": {},
   "outputs": [],
   "source": [
    "initial_buffer = sum([x[\"buffer_contribution\"] for x in retro_json])\n",
    "initial_credits = sum([x[\"arbocs\"][\"issuance\"] for x in retro_json])\n",
    "initial_onsite = sum(\n",
    "    [x[\"rp_1\"][\"ifm_1\"] + x[\"rp_1\"][\"ifm_3\"] for x in retro_json]\n",
    ")"
   ]
  },
  {
   "cell_type": "code",
   "execution_count": null,
   "id": "5c17b389",
   "metadata": {},
   "outputs": [],
   "source": [
    "f\"In the initial crediting period, these projects collectively earned {initial_credits / 1_000_000:.1f} gross credits, of which {initial_buffer / 1_000_000:.1f} million credits were contributed to the buffer pool.\""
   ]
  },
  {
   "cell_type": "code",
   "execution_count": null,
   "id": "ee477cef",
   "metadata": {},
   "outputs": [],
   "source": [
    "f\"Although this implies a buffer pool contribution of {initial_buffer/initial_credits * 100:.2f} percent of the total credit gross carbon, the onsite carbon stocks at these projects contained {initial_onsite / 1_000_000:.1f} tCO₂.\""
   ]
  },
  {
   "cell_type": "code",
   "execution_count": null,
   "id": "a6ddfc70",
   "metadata": {},
   "outputs": [],
   "source": [
    "f\"From the perspective of onside carbon that is subject to permanence risks, the buffer pool contribution for these projects is only {initial_buffer / initial_onsite * 100:.2f} percent. \""
   ]
  },
  {
   "cell_type": "markdown",
   "id": "863958a7",
   "metadata": {},
   "source": [
    "# Conclusion\n"
   ]
  },
  {
   "cell_type": "code",
   "execution_count": null,
   "id": "5c05dacf",
   "metadata": {},
   "outputs": [],
   "source": [
    "issuance = get_issuance_table.run()\n",
    "\n",
    "gross_buffer = issuance.buffer_pool.sum()\n",
    "gross_allocation = issuance.allocation.sum()"
   ]
  },
  {
   "cell_type": "code",
   "execution_count": null,
   "id": "80e34bf1",
   "metadata": {},
   "outputs": [],
   "source": [
    "gross_allocation / 1_000_000"
   ]
  },
  {
   "cell_type": "code",
   "execution_count": null,
   "id": "983ad818",
   "metadata": {},
   "outputs": [],
   "source": [
    "f\"As of our study cut-off date of January 5, 2022, a total of 31.0 million credits ({gross_buffer/gross_allocation * 100:.1f} percent) had been set aside in the buffer pool to insure an additional portfolio of {(gross_allocation - gross_buffer) / 1_000_000:.1f} million credits that are sold in private carbon markets and used to comply with California’s cap-and-trade program.\""
   ]
  },
  {
   "cell_type": "markdown",
   "id": "eaacceb4",
   "metadata": {},
   "source": [
    "#\n"
   ]
  },
  {
   "cell_type": "code",
   "execution_count": null,
   "id": "a80e21f6",
   "metadata": {},
   "outputs": [],
   "source": [
    "import fsspec\n",
    "\n",
    "import pandas as pd\n",
    "import json"
   ]
  },
  {
   "cell_type": "code",
   "execution_count": null,
   "id": "6e1407bd",
   "metadata": {},
   "outputs": [],
   "source": [
    "from carbonplan_buffer_analysis.prefect.flows import summarize_fire"
   ]
  },
  {
   "cell_type": "code",
   "execution_count": null,
   "id": "5f2cd41e",
   "metadata": {},
   "outputs": [],
   "source": [
    "fs = fsspec.filesystem(\"gs\")\n",
    "fnames = fs.glob(\"carbonplan-buffer-analysis/outputs/reversals/*\")"
   ]
  },
  {
   "cell_type": "code",
   "execution_count": null,
   "id": "76768a57",
   "metadata": {},
   "outputs": [],
   "source": [
    "store = []\n",
    "for fname in fnames:\n",
    "    with fsspec.open(f\"gs://{fname}\") as f:\n",
    "        d = json.load(f)\n",
    "        # df = pd.Series(d)\n",
    "        store.append(d)"
   ]
  },
  {
   "cell_type": "code",
   "execution_count": null,
   "id": "f6ff91bb",
   "metadata": {},
   "outputs": [],
   "source": [
    "climate_trust_subset = [\"ACR255\", \"ACR273\", \"ACR260\"]"
   ]
  },
  {
   "cell_type": "code",
   "execution_count": null,
   "id": "9ea072a6",
   "metadata": {},
   "outputs": [],
   "source": [
    "df = pd.DataFrame(store)\n",
    "df = df[df[\"opr_id\"].isin(climate_trust_subset)]"
   ]
  },
  {
   "cell_type": "code",
   "execution_count": null,
   "id": "9589b0f5",
   "metadata": {},
   "outputs": [],
   "source": [
    "issuance = summarize_fire.get_issuance_table.run()\n",
    "max_loses = summarize_fire.get_max_loses.run(issuance)"
   ]
  },
  {
   "cell_type": "code",
   "execution_count": null,
   "id": "4803b25e",
   "metadata": {},
   "outputs": [],
   "source": [
    "summary = summarize_fire.summarize_committed_loses.run(df, max_loses)"
   ]
  },
  {
   "cell_type": "code",
   "execution_count": null,
   "id": "0c06da13",
   "metadata": {},
   "outputs": [],
   "source": [
    "{\"min\": summary.min(), \"max\": summary.max()}"
   ]
  },
  {
   "cell_type": "code",
   "execution_count": null,
   "id": "c5a3bb6a",
   "metadata": {},
   "outputs": [],
   "source": [
    "groupby([\"severity\", \"salvage\", \"includes_ifm_3\"])"
   ]
  },
  {
   "cell_type": "code",
   "execution_count": null,
   "id": "9fba1996",
   "metadata": {},
   "outputs": [],
   "source": [
    "pd.concat(store, axis=1)"
   ]
  },
  {
   "cell_type": "code",
   "execution_count": null,
   "id": "16cb7fd4",
   "metadata": {},
   "outputs": [],
   "source": [
    "import fsspec\n",
    "\n",
    "with fsspec.open(\n",
    "    \"gs://carbonplan-buffer-analysis/inputs/project-fire-risks.json\"\n",
    ") as f:\n",
    "    d = json.load(f)"
   ]
  },
  {
   "cell_type": "code",
   "execution_count": null,
   "id": "0afffd8a",
   "metadata": {},
   "outputs": [],
   "source": [
    "issuance[issuance[\"project_type\"] == \"forest\"].opr_id.nunique()"
   ]
  }
 ],
 "metadata": {
  "kernelspec": {
   "display_name": "Python 3",
   "language": "python",
   "name": "python3"
  },
  "language_info": {
   "codemirror_mode": {
    "name": "ipython",
    "version": 3
   },
   "file_extension": ".py",
   "mimetype": "text/x-python",
   "name": "python",
   "nbconvert_exporter": "python",
   "pygments_lexer": "ipython3",
   "version": "3.8.12"
  }
 },
 "nbformat": 4,
 "nbformat_minor": 5
}
