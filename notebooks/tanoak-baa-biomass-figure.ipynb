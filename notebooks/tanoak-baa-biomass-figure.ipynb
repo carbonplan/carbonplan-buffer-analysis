{
 "cells": [
  {
   "cell_type": "code",
   "execution_count": null,
   "id": "3774f4a8",
   "metadata": {},
   "outputs": [],
   "source": [
    "import matplotlib.pyplot as plt\n",
    "import pandas as pd\n",
    "\n",
    "import carbonplan_styles\n",
    "\n",
    "carbonplan_styles.mpl.set_theme(font_scale=1.25)\n",
    "plt.rcParams[\"font.family\"] = \"sans\""
   ]
  },
  {
   "cell_type": "code",
   "execution_count": null,
   "id": "88eecb02",
   "metadata": {},
   "outputs": [],
   "source": [
    "def load_data(fn):\n",
    "    data = pd.read_csv(fn)\n",
    "    return data.set_index([\"pltID\", \"YEAR\"])\n",
    "\n",
    "\n",
    "def merge_species_plot(species_df, plot_df, species_code=631):\n",
    "    species = species_df[species_df[\"SPCD\"] == species_code]\n",
    "    return species.join(plot_df, rsuffix=\"_plot\", lsuffix=\"_species\")"
   ]
  },
  {
   "cell_type": "code",
   "execution_count": null,
   "id": "71a1c40e",
   "metadata": {},
   "outputs": [],
   "source": [
    "plot_biomass = load_data(\n",
    "    \"gs://carbonplan-buffer-analysis/rfia/plot_biomass.csv\"\n",
    ")\n",
    "species_biomass = load_data(\n",
    "    \"gs://carbonplan-buffer-analysis/rfia/plot_species_biomass.csv\"\n",
    ")\n",
    "plot_tpa = load_data(\"gs://carbonplan-buffer-analysis/rfia/plot_tpa.csv\")\n",
    "species_tpa = load_data(\n",
    "    \"gs://carbonplan-buffer-analysis/rfia/plot_species_tpa.csv\"\n",
    ")"
   ]
  },
  {
   "cell_type": "code",
   "execution_count": null,
   "id": "9bfb27d2",
   "metadata": {},
   "outputs": [],
   "source": [
    "tanoak_biomass = merge_species_plot(species_biomass, plot_biomass)\n",
    "tanoak_tpa = merge_species_plot(species_tpa, plot_tpa)\n",
    "\n",
    "perc_baa = tanoak_tpa[\"BAA_species\"] / tanoak_tpa[\"BAA_plot\"]\n",
    "perc_biomass = (\n",
    "    tanoak_biomass[\"BIO_ACRE_species\"] / tanoak_biomass[\"BIO_ACRE_plot\"]\n",
    ")\n",
    "\n",
    "tp = (\n",
    "    pd.concat(\n",
    "        [perc_baa.rename(\"perc_baa\"), perc_biomass.rename(\"perc_biomass\")],\n",
    "        axis=1,\n",
    "    )\n",
    "    * 100\n",
    ")"
   ]
  },
  {
   "cell_type": "code",
   "execution_count": null,
   "id": "8b675127",
   "metadata": {},
   "outputs": [],
   "source": [
    "fig, ax = plt.subplots(figsize=(3.5, 3.5))\n",
    "ax.scatter(tp[\"perc_baa\"], tp[\"perc_biomass\"], color=\".3\", s=70, alpha=0.6)\n",
    "ax.plot((0, 100), (0, 100), carbonplan_styles.colors.light[\"secondary\"])\n",
    "plt.xlim(0, 105)\n",
    "plt.ylim(0, 105)\n",
    "\n",
    "plt.xlabel(\"Tanoak Basal Area\\n(% Plot Total)\")\n",
    "plt.ylabel(\"Tanoak Biomass\\n(% Plot Total)\")\n",
    "\n",
    "ax.set_xticks(range(0, 101, 50))\n",
    "ax.set_yticks(range(0, 101, 50))\n",
    "\n",
    "carbon = \"#1B1E23\"\n",
    "[ax.spines[spine].set_color(carbon) for spine in ax.spines]\n",
    "ax.tick_params(axis=\"x\", colors=carbon)\n",
    "ax.tick_params(axis=\"y\", colors=carbon)\n",
    "plt.savefig(\"../img/tanoak_fia_methods.pdf\", dpi=300, bbox_inches=\"tight\")"
   ]
  }
 ],
 "metadata": {
  "kernelspec": {
   "display_name": "Python 3",
   "language": "python",
   "name": "python3"
  },
  "language_info": {
   "codemirror_mode": {
    "name": "ipython",
    "version": 3
   },
   "file_extension": ".py",
   "mimetype": "text/x-python",
   "name": "python",
   "nbconvert_exporter": "python",
   "pygments_lexer": "ipython3",
   "version": "3.8.12"
  }
 },
 "nbformat": 4,
 "nbformat_minor": 5
}
